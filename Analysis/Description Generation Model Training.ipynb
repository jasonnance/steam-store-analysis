{
 "cells": [
  {
   "cell_type": "markdown",
   "metadata": {},
   "source": [
    "This notebook contains code to train a LSTM RNN on the corpus of all Steam game store long descriptions and generate new descriptions.\n",
    "\n",
    "Based on this blog post: http://machinelearningmastery.com/text-generation-lstm-recurrent-neural-networks-python-keras/\n",
    "and this example: https://github.com/fchollet/keras/blob/master/examples/lstm_text_generation.py\n",
    "\n",
    "Things tried:\n",
    " - 100 char window, 1 char stride (bad results with big/small models) (all spaces or \"toes\")\n",
    " - Cleaned out all but alphanumeric chars and some punctuation\n",
    " - 40 char window, 3 char stride (much better results with small model) (\"and the coanen\")\n",
    " - 60 char window, 3 char stride (better results but a big jump in error around 10th epoch) (\"and_seeens\", \"to\")\n",
    " - don't take out lowercase, use adadelta optimizer, don't skip chars, big seq length, 3 LSTM layers w/ Dropout 0.3 (\"to the start\")\n",
    " - convert multiple spaces to one, drop long/short descriptions, limit to metacritic_review is not null (hopefully finding more homogeneous descriptions)"
   ]
  },
  {
   "cell_type": "code",
   "execution_count": 1,
   "metadata": {},
   "outputs": [
    {
     "name": "stderr",
     "output_type": "stream",
     "text": [
      "Using Theano backend.\n",
      "/home/jason/.pyenv/versions/miniconda3-latest/envs/steam-store-analysis/lib/python3.6/site-packages/theano/gpuarray/dnn.py:135: UserWarning: Your cuDNN version is more recent than Theano. If you encounter problems, try updating Theano or downgrading cuDNN to version 5.1.\n",
      "  warnings.warn(\"Your cuDNN version is more recent than \"\n",
      "Using cuDNN version 6021 on context None\n",
      "Mapped name None to device cuda: GeForce GTX 970 (0000:01:00.0)\n"
     ]
    }
   ],
   "source": [
    "%matplotlib inline\n",
    "import dataset\n",
    "import keras\n",
    "import numpy as np\n",
    "import pandas as pd\n",
    "import os\n",
    "import re\n",
    "from tqdm import tqdm\n",
    "from pathlib import Path"
   ]
  },
  {
   "cell_type": "code",
   "execution_count": 2,
   "metadata": {
    "collapsed": true
   },
   "outputs": [],
   "source": [
    "db = dataset.connect(os.environ['POSTGRES_URI'])"
   ]
  },
  {
   "cell_type": "markdown",
   "metadata": {},
   "source": [
    "Pull texts from our database.  Limit the number of descriptions pulled to prevent us from running out of memory (and order randomly so we get a random sample).  Keep only descriptions with metacritic scores to hopefully cut out a lot of the really tiny indie games with broken English in their descriptions.  This biases us toward AAA games, but I think that's fine for the purpose of generating stereotypical game descriptions, and there are still plenty to choose from."
   ]
  },
  {
   "cell_type": "code",
   "execution_count": 3,
   "metadata": {
    "scrolled": true
   },
   "outputs": [
    {
     "name": "stdout",
     "output_type": "stream",
     "text": [
      "1000\n",
      "['ABOUT THIS GAME\\nCounter-Strike: Global Offensive (CS: GO) will expand upon the team-based action gameplay that it pioneered when it was launched 14 years ago.\\n\\nCS: GO features new maps, characters, and weapons and delivers updated versions of the classic CS content (de_dust, etc.). In addition, CS: GO will introduce new gameplay modes, matchmaking, leader boards, and more.\\n\\n\"Counter-Strike took the gaming industry by surprise when the unlikely MOD became the most played online PC action game in the world almost immediately after its release in August 1999,\" said Doug Lombardi at Valve. \"For the past 12 years, it has continued to be one of the most-played games in the world, headline competitive gaming tournaments and selling over 25 million units worldwide across the franchise. CS: GO promises to expand on CS\\' award-winning gameplay and deliver it to gamers on the PC as well as the next gen consoles and the Mac.\"']\n"
     ]
    }
   ],
   "source": [
    "description_query = '''\n",
    "WITH filtered_games AS (\n",
    "  SELECT *\n",
    "  FROM game_crawl\n",
    "  WHERE is_dlc = FALSE\n",
    "    AND game_name IS NOT NULL\n",
    "    AND metacritic_score IS NOT NULL\n",
    "),\n",
    "lower_length_limit AS (\n",
    "  SELECT percentile_cont(0.01) WITHIN GROUP (ORDER BY length(long_description)) AS lower_limit\n",
    "    FROM filtered_games\n",
    "),\n",
    "upper_length_limit AS (\n",
    "  SELECT percentile_cont(0.99) WITHIN GROUP (ORDER BY length(long_description)) AS upper_limit\n",
    "    FROM filtered_games\n",
    ")\n",
    "SELECT * \n",
    "FROM filtered_games\n",
    "WHERE length(long_description)\n",
    "  BETWEEN (SELECT lower_limit FROM lower_length_limit)\n",
    "    AND (SELECT upper_limit FROM upper_length_limit)\n",
    "ORDER BY random()\n",
    "LIMIT 1000\n",
    "'''\n",
    "\n",
    "corpus = [r['long_description'] for r in db.query(description_query)]\n",
    "print(len(corpus))\n",
    "print(corpus[:1])"
   ]
  },
  {
   "cell_type": "markdown",
   "metadata": {},
   "source": [
    "Check the distribution of lengths on the descriptions to make sure we didn't get any crazy outliers."
   ]
  },
  {
   "cell_type": "code",
   "execution_count": 4,
   "metadata": {},
   "outputs": [
    {
     "data": {
      "text/plain": [
       "<matplotlib.axes._subplots.AxesSubplot at 0x7fb511b0edd8>"
      ]
     },
     "execution_count": 4,
     "metadata": {},
     "output_type": "execute_result"
    },
    {
     "data": {
      "image/png": "[encoded data removed]",
      "text/plain": [
       "<matplotlib.figure.Figure at 0x7fb56c90b978>"
      ]
     },
     "metadata": {},
     "output_type": "display_data"
    }
   ],
   "source": [
    "pd.Series(corpus).apply(len).plot(kind='hist')"
   ]
  },
  {
   "cell_type": "markdown",
   "metadata": {},
   "source": [
    "Apply cleaning to help the model out."
   ]
  },
  {
   "cell_type": "code",
   "execution_count": 5,
   "metadata": {},
   "outputs": [],
   "source": [
    "bad_char_re = re.compile(r'[^-a-zA-Z0-9 !.,?\\n:()]')\n",
    "multi_spaces_re = re.compile(r'(\\s){2,}')\n",
    "\n",
    "def clean_description(description):\n",
    "    filtered_description = bad_char_re.sub('', description)\n",
    "    # Replace two or more spaces with one space\n",
    "    filtered_description = multi_spaces_re.sub(r'\\1\\1', filtered_description)\n",
    "    return filtered_description\n",
    "\n",
    "cleaned_corpus = [clean_description(d) for d in corpus]\n",
    "del corpus"
   ]
  },
  {
   "cell_type": "markdown",
   "metadata": {},
   "source": [
    "Create a mapping of unique chars to integers"
   ]
  },
  {
   "cell_type": "code",
   "execution_count": 6,
   "metadata": {
    "scrolled": true
   },
   "outputs": [
    {
     "name": "stdout",
     "output_type": "stream",
     "text": [
      "['\\n', ' ', '!', '(', ')', ',', '-', '.', '0', '1', '2', '3', '4', '5', '6', '7', '8', '9', ':', '?', 'A', 'B', 'C', 'D', 'E', 'F', 'G', 'H', 'I', 'J', 'K', 'L', 'M', 'N', 'O', 'P', 'Q', 'R', 'S', 'T', 'U', 'V', 'W', 'X', 'Y', 'Z', 'a', 'b', 'c', 'd', 'e', 'f', 'g', 'h', 'i', 'j', 'k', 'l', 'm', 'n', 'o', 'p', 'q', 'r', 's', 't', 'u', 'v', 'w', 'x', 'y', 'z']\n"
     ]
    }
   ],
   "source": [
    "joined_corpus = '\\n'.join(cleaned_corpus)\n",
    "del cleaned_corpus\n",
    "chars = sorted(list(set(joined_corpus)))\n",
    "print(chars)\n",
    "char_to_int = dict((c, i) for i, c in enumerate(chars))"
   ]
  },
  {
   "cell_type": "markdown",
   "metadata": {},
   "source": [
    "Total number of characters in the corpus."
   ]
  },
  {
   "cell_type": "code",
   "execution_count": 7,
   "metadata": {},
   "outputs": [
    {
     "name": "stdout",
     "output_type": "stream",
     "text": [
      "1461861\n"
     ]
    }
   ],
   "source": [
    "n_chars = len(joined_corpus)\n",
    "print(n_chars)"
   ]
  },
  {
   "cell_type": "markdown",
   "metadata": {},
   "source": [
    "Total number of characters in the vocab"
   ]
  },
  {
   "cell_type": "code",
   "execution_count": 8,
   "metadata": {},
   "outputs": [
    {
     "name": "stdout",
     "output_type": "stream",
     "text": [
      "72\n"
     ]
    }
   ],
   "source": [
    "n_vocab = len(chars)\n",
    "print(n_vocab)"
   ]
  },
  {
   "cell_type": "markdown",
   "metadata": {},
   "source": [
    "Prepare the dataset of input to output pairs encoded as integers"
   ]
  },
  {
   "cell_type": "code",
   "execution_count": 9,
   "metadata": {},
   "outputs": [
    {
     "name": "stderr",
     "output_type": "stream",
     "text": [
      "100%|██████████| 1461721/1461721 [00:18<00:00, 80401.33it/s] "
     ]
    },
    {
     "name": "stdout",
     "output_type": "stream",
     "text": [
      "1461721\n"
     ]
    },
    {
     "name": "stderr",
     "output_type": "stream",
     "text": [
      "\n"
     ]
    }
   ],
   "source": [
    "seq_length = 140\n",
    "step = 1\n",
    "data_x = []\n",
    "data_y = []\n",
    "for i in tqdm(range(0, n_chars - seq_length, step)):\n",
    "    start = i\n",
    "    end = i + seq_length\n",
    "    seq_in = joined_corpus[start:end]\n",
    "    seq_out = joined_corpus[end]\n",
    "    data_x.append([char_to_int[char] for char in seq_in])\n",
    "    data_y.append(char_to_int[seq_out])\n",
    "n_patterns = len(data_x)\n",
    "print(n_patterns)\n",
    "del joined_corpus"
   ]
  },
  {
   "cell_type": "markdown",
   "metadata": {},
   "source": [
    "Reshape the X array to be [samples, time steps, features], normalize, and one-hot encode the output"
   ]
  },
  {
   "cell_type": "code",
   "execution_count": null,
   "metadata": {
    "collapsed": true
   },
   "outputs": [],
   "source": [
    "def transform_text_samples(text_samples, n_patterns, seq_length):\n",
    "    return np.reshape(text_samples, (n_patterns, seq_length, 1)) / float(n_vocab)\n",
    "\n",
    "X = transform_text_samples(data_x, n_patterns, seq_length)\n",
    "y = keras.utils.np_utils.to_categorical(data_y)"
   ]
  },
  {
   "cell_type": "markdown",
   "metadata": {},
   "source": [
    "Define the model"
   ]
  },
  {
   "cell_type": "code",
   "execution_count": 101,
   "metadata": {
    "collapsed": true
   },
   "outputs": [],
   "source": [
    "model = keras.models.Sequential()\n",
    "model.add(keras.layers.LSTM(128, input_shape=(X.shape[1], X.shape[2]), return_sequences=True, implementation=2))\n",
    "model.add(keras.layers.Dropout(0.3))\n",
    "model.add(keras.layers.LSTM(128, return_sequences=True, implementation=2))\n",
    "model.add(keras.layers.LSTM(128, implementation=2))\n",
    "model.add(keras.layers.Dense(y.shape[1], activation='softmax'))\n",
    "\n",
    "# optimizer = keras.optimizers.RMSprop(lr=0.01)\n",
    "model.compile(loss='categorical_crossentropy', optimizer='adadelta')\n",
    "\n",
    "checkpoint_path = Path('models', 'weights-improvement-{epoch:02d}-{loss:.4f}.hdf5')\n",
    "checkpoint = keras.callbacks.ModelCheckpoint(str(checkpoint_path), monitor='loss',\n",
    "                                             verbose=1, save_best_only=True, mode='min')\n",
    "callbacks_list = [checkpoint]"
   ]
  },
  {
   "cell_type": "code",
   "execution_count": null,
   "metadata": {},
   "outputs": [],
   "source": [
    "model.fit(X, y, epochs=60, batch_size=128, callbacks=callbacks_list)"
   ]
  },
  {
   "cell_type": "code",
   "execution_count": 105,
   "metadata": {
    "collapsed": true
   },
   "outputs": [],
   "source": [
    "filename = Path('models', 'weights-improvement-42-1.6363.hdf5')\n",
    "model.load_weights(str(filename))\n",
    "model.compile(loss='categorical_crossentropy', optimizer='adadelta')"
   ]
  },
  {
   "cell_type": "markdown",
   "metadata": {},
   "source": [
    "Generate a reverse mapping for ints to chars"
   ]
  },
  {
   "cell_type": "code",
   "execution_count": 106,
   "metadata": {
    "collapsed": true
   },
   "outputs": [],
   "source": [
    "int_to_char = dict((i, c) for i, c in enumerate(chars))"
   ]
  },
  {
   "cell_type": "markdown",
   "metadata": {},
   "source": [
    "Generate predictions from a seed sequence"
   ]
  },
  {
   "cell_type": "code",
   "execution_count": null,
   "metadata": {},
   "outputs": [],
   "source": [
    "start = np.random.randint(0, len(data_x)-1)\n",
    "pattern = data_x[start]\n",
    "print(\"Seed:\\n{}\".format(''.join([int_to_char[value] for value in pattern])))\n",
    "num_generated_chars = 1000\n",
    "\n",
    "def sample(preds, temperature=1.0):\n",
    "    # sample an index from a probability array\n",
    "    preds = np.asarray(preds).astype('float64')\n",
    "    preds = np.log(preds) / temperature\n",
    "    exp_preds = np.exp(preds)\n",
    "    preds = exp_preds / np.sum(exp_preds)\n",
    "    probas = np.random.multinomial(1, preds)\n",
    "    return np.argmax(probas)\n",
    "\n",
    "for diversity in (0.05, 0.1, 0.2, 0.5, 0.75, 1.0, 1.2):\n",
    "    generated_str = ''\n",
    "\n",
    "    for i in range(num_generated_chars):\n",
    "        x = transform_text_samples(pattern, 1, len(pattern))\n",
    "        prediction = model.predict(x, verbose=0)\n",
    "        index = sample(prediction[0], temperature=diversity)\n",
    "        result = int_to_char[index]\n",
    "        seq_in = [int_to_char[value] for value in pattern]\n",
    "        generated_str += result\n",
    "        pattern.append(index)\n",
    "        pattern = pattern[1:]\n",
    "\n",
    "    print(\"\\n\\nResult (diversity {}):\\n{}\".format(diversity, generated_str))"
   ]
  }
 ],
 "metadata": {
  "kernelspec": {
   "display_name": "Python 3",
   "language": "python",
   "name": "python3"
  },
  "language_info": {
   "codemirror_mode": {
    "name": "ipython",
    "version": 3
   },
   "file_extension": ".py",
   "mimetype": "text/x-python",
   "name": "python",
   "nbconvert_exporter": "python",
   "pygments_lexer": "ipython3",
   "version": "3.6.1"
  }
 },
 "nbformat": 4,
 "nbformat_minor": 2
}
