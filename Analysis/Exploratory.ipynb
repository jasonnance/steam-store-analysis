{
 "cells": [
  {
   "cell_type": "code",
   "execution_count": 52,
   "metadata": {},
   "outputs": [
    {
     "name": "stdout",
     "output_type": "stream",
     "text": [
      "The autoreload extension is already loaded. To reload it, use:\n",
      "  %reload_ext autoreload\n"
     ]
    }
   ],
   "source": [
    "import dataset\n",
    "import pandas as pd\n",
    "import numpy as np\n",
    "import os\n",
    "import seaborn as sns\n",
    "import scipy\n",
    "\n",
    "%matplotlib inline\n",
    "%load_ext autoreload\n",
    "%autoreload 2"
   ]
  },
  {
   "cell_type": "code",
   "execution_count": 3,
   "metadata": {},
   "outputs": [
    {
     "data": {
      "text/html": [
       "<div>\n",
       "<table border=\"1\" class=\"dataframe\">\n",
       "  <thead>\n",
       "    <tr style=\"text-align: right;\">\n",
       "      <th></th>\n",
       "      <th>crawl_time</th>\n",
       "      <th>game_name</th>\n",
       "      <th>short_description</th>\n",
       "      <th>reviews_last_30_days</th>\n",
       "      <th>pct_positive_reviews_last_30_days</th>\n",
       "      <th>reviews_all_time</th>\n",
       "      <th>pct_positive_reviews_all_time</th>\n",
       "      <th>release_date</th>\n",
       "      <th>title</th>\n",
       "      <th>developer</th>\n",
       "      <th>publisher</th>\n",
       "      <th>num_achievements</th>\n",
       "      <th>full_price</th>\n",
       "      <th>long_description</th>\n",
       "      <th>metacritic_score</th>\n",
       "      <th>is_dlc</th>\n",
       "      <th>genres</th>\n",
       "      <th>details</th>\n",
       "      <th>tags</th>\n",
       "    </tr>\n",
       "    <tr>\n",
       "      <th>steam_app_id</th>\n",
       "      <th></th>\n",
       "      <th></th>\n",
       "      <th></th>\n",
       "      <th></th>\n",
       "      <th></th>\n",
       "      <th></th>\n",
       "      <th></th>\n",
       "      <th></th>\n",
       "      <th></th>\n",
       "      <th></th>\n",
       "      <th></th>\n",
       "      <th></th>\n",
       "      <th></th>\n",
       "      <th></th>\n",
       "      <th></th>\n",
       "      <th></th>\n",
       "      <th></th>\n",
       "      <th></th>\n",
       "      <th></th>\n",
       "    </tr>\n",
       "  </thead>\n",
       "  <tbody>\n",
       "    <tr>\n",
       "      <th>5</th>\n",
       "      <td>2017-04-25 01:45:36.531985+00:00</td>\n",
       "      <td>None</td>\n",
       "      <td>None</td>\n",
       "      <td>NaN</td>\n",
       "      <td>NaN</td>\n",
       "      <td>NaN</td>\n",
       "      <td>NaN</td>\n",
       "      <td>NaT</td>\n",
       "      <td>None</td>\n",
       "      <td>None</td>\n",
       "      <td>None</td>\n",
       "      <td>NaN</td>\n",
       "      <td>NaN</td>\n",
       "      <td>None</td>\n",
       "      <td>NaN</td>\n",
       "      <td>None</td>\n",
       "      <td>None</td>\n",
       "      <td>None</td>\n",
       "      <td>None</td>\n",
       "    </tr>\n",
       "    <tr>\n",
       "      <th>7</th>\n",
       "      <td>2017-04-25 01:45:49.480343+00:00</td>\n",
       "      <td>None</td>\n",
       "      <td>None</td>\n",
       "      <td>NaN</td>\n",
       "      <td>NaN</td>\n",
       "      <td>NaN</td>\n",
       "      <td>NaN</td>\n",
       "      <td>NaT</td>\n",
       "      <td>None</td>\n",
       "      <td>None</td>\n",
       "      <td>None</td>\n",
       "      <td>NaN</td>\n",
       "      <td>NaN</td>\n",
       "      <td>None</td>\n",
       "      <td>NaN</td>\n",
       "      <td>None</td>\n",
       "      <td>None</td>\n",
       "      <td>None</td>\n",
       "      <td>None</td>\n",
       "    </tr>\n",
       "    <tr>\n",
       "      <th>8</th>\n",
       "      <td>2017-04-25 01:46:01.917411+00:00</td>\n",
       "      <td>None</td>\n",
       "      <td>None</td>\n",
       "      <td>NaN</td>\n",
       "      <td>NaN</td>\n",
       "      <td>NaN</td>\n",
       "      <td>NaN</td>\n",
       "      <td>NaT</td>\n",
       "      <td>None</td>\n",
       "      <td>None</td>\n",
       "      <td>None</td>\n",
       "      <td>NaN</td>\n",
       "      <td>NaN</td>\n",
       "      <td>None</td>\n",
       "      <td>NaN</td>\n",
       "      <td>None</td>\n",
       "      <td>None</td>\n",
       "      <td>None</td>\n",
       "      <td>None</td>\n",
       "    </tr>\n",
       "    <tr>\n",
       "      <th>10</th>\n",
       "      <td>2017-04-25 01:46:15.009013+00:00</td>\n",
       "      <td>Counter-Strike</td>\n",
       "      <td>Play the world's number 1 online action game. ...</td>\n",
       "      <td>745.0</td>\n",
       "      <td>96.0</td>\n",
       "      <td>39394.0</td>\n",
       "      <td>97.0</td>\n",
       "      <td>2000-11-01</td>\n",
       "      <td>Counter-Strike</td>\n",
       "      <td>Valve</td>\n",
       "      <td>Valve</td>\n",
       "      <td>NaN</td>\n",
       "      <td>9.99</td>\n",
       "      <td>ABOUT THIS GAME\\nPlay the world's number 1 onl...</td>\n",
       "      <td>88.0</td>\n",
       "      <td>False</td>\n",
       "      <td>[Action]</td>\n",
       "      <td>[Multi-player, Valve Anti-Cheat enabled]</td>\n",
       "      <td>[Action, FPS, Multiplayer, Shooter, Classic, T...</td>\n",
       "    </tr>\n",
       "    <tr>\n",
       "      <th>20</th>\n",
       "      <td>2017-04-25 01:46:28.021976+00:00</td>\n",
       "      <td>Team Fortress Classic</td>\n",
       "      <td>One of the most popular online action games of...</td>\n",
       "      <td>35.0</td>\n",
       "      <td>71.0</td>\n",
       "      <td>1842.0</td>\n",
       "      <td>81.0</td>\n",
       "      <td>1999-04-01</td>\n",
       "      <td>Team Fortress Classic</td>\n",
       "      <td>Valve</td>\n",
       "      <td>Valve</td>\n",
       "      <td>NaN</td>\n",
       "      <td>4.99</td>\n",
       "      <td>ABOUT THIS GAME\\nOne of the most popular onlin...</td>\n",
       "      <td>NaN</td>\n",
       "      <td>False</td>\n",
       "      <td>[Action]</td>\n",
       "      <td>[Multi-player, Valve Anti-Cheat enabled]</td>\n",
       "      <td>[Classic, Shooter, Class-Based, Team-Based, Fi...</td>\n",
       "    </tr>\n",
       "  </tbody>\n",
       "</table>\n",
       "</div>"
      ],
      "text/plain": [
       "                                   crawl_time              game_name  \\\n",
       "steam_app_id                                                           \n",
       "5            2017-04-25 01:45:36.531985+00:00                   None   \n",
       "7            2017-04-25 01:45:49.480343+00:00                   None   \n",
       "8            2017-04-25 01:46:01.917411+00:00                   None   \n",
       "10           2017-04-25 01:46:15.009013+00:00         Counter-Strike   \n",
       "20           2017-04-25 01:46:28.021976+00:00  Team Fortress Classic   \n",
       "\n",
       "                                              short_description  \\\n",
       "steam_app_id                                                      \n",
       "5                                                          None   \n",
       "7                                                          None   \n",
       "8                                                          None   \n",
       "10            Play the world's number 1 online action game. ...   \n",
       "20            One of the most popular online action games of...   \n",
       "\n",
       "              reviews_last_30_days  pct_positive_reviews_last_30_days  \\\n",
       "steam_app_id                                                            \n",
       "5                              NaN                                NaN   \n",
       "7                              NaN                                NaN   \n",
       "8                              NaN                                NaN   \n",
       "10                           745.0                               96.0   \n",
       "20                            35.0                               71.0   \n",
       "\n",
       "              reviews_all_time  pct_positive_reviews_all_time release_date  \\\n",
       "steam_app_id                                                                 \n",
       "5                          NaN                            NaN          NaT   \n",
       "7                          NaN                            NaN          NaT   \n",
       "8                          NaN                            NaN          NaT   \n",
       "10                     39394.0                           97.0   2000-11-01   \n",
       "20                      1842.0                           81.0   1999-04-01   \n",
       "\n",
       "                              title developer publisher  num_achievements  \\\n",
       "steam_app_id                                                                \n",
       "5                              None      None      None               NaN   \n",
       "7                              None      None      None               NaN   \n",
       "8                              None      None      None               NaN   \n",
       "10                   Counter-Strike     Valve     Valve               NaN   \n",
       "20            Team Fortress Classic     Valve     Valve               NaN   \n",
       "\n",
       "              full_price                                   long_description  \\\n",
       "steam_app_id                                                                  \n",
       "5                    NaN                                               None   \n",
       "7                    NaN                                               None   \n",
       "8                    NaN                                               None   \n",
       "10                  9.99  ABOUT THIS GAME\\nPlay the world's number 1 onl...   \n",
       "20                  4.99  ABOUT THIS GAME\\nOne of the most popular onlin...   \n",
       "\n",
       "              metacritic_score is_dlc    genres  \\\n",
       "steam_app_id                                      \n",
       "5                          NaN   None      None   \n",
       "7                          NaN   None      None   \n",
       "8                          NaN   None      None   \n",
       "10                        88.0  False  [Action]   \n",
       "20                         NaN  False  [Action]   \n",
       "\n",
       "                                               details  \\\n",
       "steam_app_id                                             \n",
       "5                                                 None   \n",
       "7                                                 None   \n",
       "8                                                 None   \n",
       "10            [Multi-player, Valve Anti-Cheat enabled]   \n",
       "20            [Multi-player, Valve Anti-Cheat enabled]   \n",
       "\n",
       "                                                           tags  \n",
       "steam_app_id                                                     \n",
       "5                                                          None  \n",
       "7                                                          None  \n",
       "8                                                          None  \n",
       "10            [Action, FPS, Multiplayer, Shooter, Classic, T...  \n",
       "20            [Classic, Shooter, Class-Based, Team-Based, Fi...  "
      ]
     },
     "execution_count": 3,
     "metadata": {},
     "output_type": "execute_result"
    }
   ],
   "source": [
    "db = dataset.connect(os.environ['POSTGRES_URI'])\n",
    "games_df = pd.read_sql('SELECT * FROM game_crawl_view;', os.environ['POSTGRES_URI'], index_col='steam_app_id',\n",
    "                      parse_dates=['release_date', 'crawl_time'])\n",
    "games_df.head()"
   ]
  },
  {
   "cell_type": "markdown",
   "metadata": {},
   "source": [
    "How many apps did we crawl in total?"
   ]
  },
  {
   "cell_type": "code",
   "execution_count": 4,
   "metadata": {},
   "outputs": [
    {
     "data": {
      "text/plain": [
       "40216"
      ]
     },
     "execution_count": 4,
     "metadata": {},
     "output_type": "execute_result"
    }
   ],
   "source": [
    "len(games_df)"
   ]
  },
  {
   "cell_type": "markdown",
   "metadata": {},
   "source": [
    "And how many of these did we actually get info for?"
   ]
  },
  {
   "cell_type": "code",
   "execution_count": 5,
   "metadata": {},
   "outputs": [
    {
     "data": {
      "text/plain": [
       "26525"
      ]
     },
     "execution_count": 5,
     "metadata": {},
     "output_type": "execute_result"
    }
   ],
   "source": [
    "games_df = games_df[~pd.isnull(games_df['game_name'])]\n",
    "len(games_df)"
   ]
  },
  {
   "cell_type": "markdown",
   "metadata": {},
   "source": [
    "How many games vs DLC?"
   ]
  },
  {
   "cell_type": "code",
   "execution_count": 6,
   "metadata": {},
   "outputs": [
    {
     "data": {
      "text/plain": [
       "<matplotlib.axes._subplots.AxesSubplot at 0x7fd1dc96f7f0>"
      ]
     },
     "execution_count": 6,
     "metadata": {},
     "output_type": "execute_result"
    },
    {
     "data": {
      "image/png": "[encoded data removed]",
      "text/plain": [
       "<matplotlib.figure.Figure at 0x7fd1dd371ef0>"
      ]
     },
     "metadata": {},
     "output_type": "display_data"
    }
   ],
   "source": [
    "sns.countplot(x='is_dlc', data=games_df)"
   ]
  },
  {
   "cell_type": "markdown",
   "metadata": {},
   "source": [
    "Looking at only games from now on..."
   ]
  },
  {
   "cell_type": "code",
   "execution_count": 7,
   "metadata": {
    "collapsed": true
   },
   "outputs": [],
   "source": [
    "games_df = games_df[games_df['is_dlc'] == False]"
   ]
  },
  {
   "cell_type": "markdown",
   "metadata": {},
   "source": [
    "Counts by various columns"
   ]
  },
  {
   "cell_type": "code",
   "execution_count": 8,
   "metadata": {},
   "outputs": [
    {
     "data": {
      "text/plain": [
       "Ubisoft                                      142\n",
       "Big Fish Games                               137\n",
       "SEGA                                         134\n",
       "Strategy First                               133\n",
       "THQ Nordic                                   106\n",
       "KISS ltd                                     103\n",
       "Sekai Project                                 97\n",
       "KOEI TECMO GAMES CO., LTD.                    97\n",
       "Square Enix                                   93\n",
       "Degica                                        79\n",
       "Choice of Games                               77\n",
       "Devolver Digital                              70\n",
       "Activision                                    68\n",
       "Paradox Interactive                           67\n",
       "1C Company                                    65\n",
       "Buka Entertainment                            63\n",
       "United Independent Entertainment GmbH         58\n",
       "Daedalic Entertainment                        57\n",
       "Focus Home Interactive                        52\n",
       "MumboJumbo                                    52\n",
       "Slitherine Ltd.                               51\n",
       "Back To Basics Gaming                         50\n",
       "Kalypso Media Digital                         49\n",
       "AGM PLAYISM                                   47\n",
       "Libredia                                      47\n",
       "Black Shell Media                             46\n",
       "Artifex Mundi                                 45\n",
       "Plug In Digital                               45\n",
       "Headup Games                                  44\n",
       "Aldorlea Games                                44\n",
       "                                            ... \n",
       "cbritez                                        1\n",
       "Cuddles and Snowflake                          1\n",
       "Borderline Inappropriate Game Studios Ltd      1\n",
       "Eerie Bear Games                               1\n",
       "Aperico Software                               1\n",
       "Interplay Corp                                 1\n",
       "Games Foundry                                  1\n",
       "Xtase Studios                                  1\n",
       "Poorwill Games                                 1\n",
       "Eden Agency                                    1\n",
       "K Monkey                                       1\n",
       "kunst-stoff GmbH                               1\n",
       "نقش الضوء                                      1\n",
       "Colonthree Enterprises                         1\n",
       "SmashRiot LLC                                  1\n",
       "Poking Water Games                             1\n",
       "bocoboc                                        1\n",
       "Delmunsoft                                     1\n",
       "Thrillion                                      1\n",
       "1C Company, Playrix                            1\n",
       "rocketship                                     1\n",
       "Endemic Interactive                            1\n",
       "Maverick Game Studio                           1\n",
       "Queen Bee Games                                1\n",
       "XPEC Entertainment Inc.                        1\n",
       "Ivan Zanotti's MyMadness Works                 1\n",
       "Team Junkfish                                  1\n",
       "Fiassink Games                                 1\n",
       "Meepower                                       1\n",
       "Red Nexus Games Inc.                           1\n",
       "Name: publisher, dtype: int64"
      ]
     },
     "execution_count": 8,
     "metadata": {},
     "output_type": "execute_result"
    }
   ],
   "source": [
    "games_df['publisher'].value_counts()"
   ]
  },
  {
   "cell_type": "code",
   "execution_count": 9,
   "metadata": {},
   "outputs": [
    {
     "data": {
      "text/plain": [
       "KOEI TECMO GAMES CO., LTD.                                98\n",
       "Choice of Games                                           77\n",
       "SEGA                                                      57\n",
       "MumboJumbo                                                45\n",
       "Humongous Entertainment                                   36\n",
       "Hosted Games                                              36\n",
       "Telltale Games                                            36\n",
       "HeR Interactive                                           33\n",
       "Valve                                                     31\n",
       "EnsenaSoft                                                30\n",
       "Warfare Studios                                           30\n",
       "Milestone S.r.l.                                          26\n",
       "Daedalic Entertainment                                    26\n",
       "Winged Cloud                                              25\n",
       "Bohemia Interactive                                       23\n",
       "Ubisoft Montreal                                          23\n",
       "Paradox Development Studio                                22\n",
       "United Independent Entertainment GmbH                     22\n",
       "Winter Wolves                                             21\n",
       "Frontwing                                                 20\n",
       "id Software                                               20\n",
       "Team17 Digital Ltd                                        20\n",
       "Sandlot Games                                             18\n",
       "DotEmu                                                    18\n",
       "Eipix Entertainment                                       18\n",
       "MicroProse Software, Inc                                  18\n",
       "Forever Entertainment S. A.                               17\n",
       "FIVE-BN GAMES                                             17\n",
       "PopCap Games, Inc.                                        17\n",
       "SQUARE ENIX                                               16\n",
       "                                                          ..\n",
       "Stegalosaurus Game Development                             1\n",
       "Interplay                                                  1\n",
       "Joshua Hughes                                              1\n",
       "Unlikely Rogue                                             1\n",
       "Onur Vural and Leigh Christian                             1\n",
       "EXE-CREATE                                                 1\n",
       "Code Horizon                                               1\n",
       "Space Paw Studios                                          1\n",
       "Jagex , Artplant                                           1\n",
       "Σεμιόν Ούγλεβ                                              1\n",
       "Lupus Solus Studio                                         1\n",
       "KintoGames , Dolores Entertainment                         1\n",
       "Kirill Gurman                                              1\n",
       "Cyberlore                                                  1\n",
       "Geomertex                                                  1\n",
       "cbritez                                                    1\n",
       "Benjamin Famiglietti                                       1\n",
       "Cuddles and Snowflake                                      1\n",
       "Forbes Consult Ltd                                         1\n",
       "Eerie Bear Games                                           1\n",
       "Aperico Software                                           1\n",
       "Class of 2015-2016                                         1\n",
       "Stephane Graziano , Franck Graziano , Mathieu Lamarche     1\n",
       "Light Vision Interactive                                   1\n",
       "Snowrunner Games                                           1\n",
       "Applava                                                    1\n",
       "Mini IT                                                    1\n",
       "SkywardRiver , Zetasis , BeNjO , Nikakosa , Rex            1\n",
       "Chaos Concept                                              1\n",
       "Red Nexus Games Inc.                                       1\n",
       "Name: developer, dtype: int64"
      ]
     },
     "execution_count": 9,
     "metadata": {},
     "output_type": "execute_result"
    }
   ],
   "source": [
    "games_df['developer'].value_counts()"
   ]
  },
  {
   "cell_type": "markdown",
   "metadata": {},
   "source": [
    "Plotting various review metrics"
   ]
  },
  {
   "cell_type": "code",
   "execution_count": 45,
   "metadata": {},
   "outputs": [
    {
     "data": {
      "text/plain": [
       "<matplotlib.axes._subplots.AxesSubplot at 0x7fd1d98fc550>"
      ]
     },
     "execution_count": 45,
     "metadata": {},
     "output_type": "execute_result"
    },
    {
     "data": {
      "image/png": "[encoded data removed]",
      "text/plain": [
       "<matplotlib.figure.Figure at 0x7fd1d994ac88>"
      ]
     },
     "metadata": {},
     "output_type": "display_data"
    }
   ],
   "source": [
    "sns.distplot(games_df['metacritic_score'].dropna(), bins=25)"
   ]
  },
  {
   "cell_type": "code",
   "execution_count": 46,
   "metadata": {},
   "outputs": [
    {
     "data": {
      "text/plain": [
       "<matplotlib.axes._subplots.AxesSubplot at 0x7fd1d9636240>"
      ]
     },
     "execution_count": 46,
     "metadata": {},
     "output_type": "execute_result"
    },
    {
     "data": {
      "image/png": "[encoded data removed]",
      "text/plain": [
       "<matplotlib.figure.Figure at 0x7fd1d96fb9e8>"
      ]
     },
     "metadata": {},
     "output_type": "display_data"
    }
   ],
   "source": [
    "sns.distplot(games_df['pct_positive_reviews_all_time'].dropna(), bins=25)"
   ]
  },
  {
   "cell_type": "code",
   "execution_count": 14,
   "metadata": {},
   "outputs": [
    {
     "data": {
      "text/plain": [
       "<matplotlib.axes._subplots.AxesSubplot at 0x7fd1dee54e80>"
      ]
     },
     "execution_count": 14,
     "metadata": {},
     "output_type": "execute_result"
    },
    {
     "data": {
      "image/png": "[encoded data removed]",
      "text/plain": [
       "<matplotlib.figure.Figure at 0x7fd1de7b5d30>"
      ]
     },
     "metadata": {},
     "output_type": "display_data"
    }
   ],
   "source": [
    "sns.distplot(games_df['pct_positive_reviews_last_30_days'].dropna())"
   ]
  },
  {
   "cell_type": "code",
   "execution_count": 29,
   "metadata": {},
   "outputs": [
    {
     "data": {
      "text/plain": [
       "<seaborn.axisgrid.JointGrid at 0x7fd1dcd21320>"
      ]
     },
     "execution_count": 29,
     "metadata": {},
     "output_type": "execute_result"
    },
    {
     "data": {
      "image/png": "[encoded data removed]",
      "text/plain": [
       "<matplotlib.figure.Figure at 0x7fd1dcd219b0>"
      ]
     },
     "metadata": {},
     "output_type": "display_data"
    }
   ],
   "source": [
    "nonnull_reviews_df = games_df[\n",
    "    ~pd.isnull(games_df['metacritic_score'])\n",
    "    & ~pd.isnull(games_df['pct_positive_reviews_all_time'])\n",
    "]\n",
    "sns.jointplot(x='metacritic_score', y='pct_positive_reviews_all_time', data=nonnull_reviews_df,\n",
    "              stat_func=scipy.stats.spearmanr)"
   ]
  },
  {
   "cell_type": "markdown",
   "metadata": {},
   "source": [
    "Some of those scores are really low... curious what the games are"
   ]
  },
  {
   "cell_type": "code",
   "execution_count": 24,
   "metadata": {
    "collapsed": true
   },
   "outputs": [],
   "source": [
    "def find_worst_games(metric):\n",
    "    return (nonnull_reviews_df.sort_values(\n",
    "        metric\n",
    "    )[:5][['game_name', 'pct_positive_reviews_all_time', 'metacritic_score']])"
   ]
  },
  {
   "cell_type": "code",
   "execution_count": 25,
   "metadata": {},
   "outputs": [
    {
     "data": {
      "text/html": [
       "<div>\n",
       "<table border=\"1\" class=\"dataframe\">\n",
       "  <thead>\n",
       "    <tr style=\"text-align: right;\">\n",
       "      <th></th>\n",
       "      <th>game_name</th>\n",
       "      <th>pct_positive_reviews_all_time</th>\n",
       "      <th>metacritic_score</th>\n",
       "    </tr>\n",
       "    <tr>\n",
       "      <th>steam_app_id</th>\n",
       "      <th></th>\n",
       "      <th></th>\n",
       "      <th></th>\n",
       "    </tr>\n",
       "  </thead>\n",
       "  <tbody>\n",
       "    <tr>\n",
       "      <th>210500</th>\n",
       "      <td>Fray: Reloaded Edition</td>\n",
       "      <td>0.0</td>\n",
       "      <td>27.0</td>\n",
       "    </tr>\n",
       "    <tr>\n",
       "      <th>210490</th>\n",
       "      <td>Fray: Reloaded Edition</td>\n",
       "      <td>0.0</td>\n",
       "      <td>27.0</td>\n",
       "    </tr>\n",
       "    <tr>\n",
       "      <th>256050</th>\n",
       "      <td>Adventure Park</td>\n",
       "      <td>9.0</td>\n",
       "      <td>49.0</td>\n",
       "    </tr>\n",
       "    <tr>\n",
       "      <th>238870</th>\n",
       "      <td>Citadels</td>\n",
       "      <td>11.0</td>\n",
       "      <td>20.0</td>\n",
       "    </tr>\n",
       "    <tr>\n",
       "      <th>216130</th>\n",
       "      <td>Gemini Wars</td>\n",
       "      <td>13.0</td>\n",
       "      <td>53.0</td>\n",
       "    </tr>\n",
       "  </tbody>\n",
       "</table>\n",
       "</div>"
      ],
      "text/plain": [
       "                           game_name  pct_positive_reviews_all_time  \\\n",
       "steam_app_id                                                          \n",
       "210500        Fray: Reloaded Edition                            0.0   \n",
       "210490        Fray: Reloaded Edition                            0.0   \n",
       "256050                Adventure Park                            9.0   \n",
       "238870                      Citadels                           11.0   \n",
       "216130                   Gemini Wars                           13.0   \n",
       "\n",
       "              metacritic_score  \n",
       "steam_app_id                    \n",
       "210500                    27.0  \n",
       "210490                    27.0  \n",
       "256050                    49.0  \n",
       "238870                    20.0  \n",
       "216130                    53.0  "
      ]
     },
     "execution_count": 25,
     "metadata": {},
     "output_type": "execute_result"
    }
   ],
   "source": [
    "find_worst_games('pct_positive_reviews_all_time')"
   ]
  },
  {
   "cell_type": "code",
   "execution_count": 26,
   "metadata": {},
   "outputs": [
    {
     "data": {
      "text/html": [
       "<div>\n",
       "<table border=\"1\" class=\"dataframe\">\n",
       "  <thead>\n",
       "    <tr style=\"text-align: right;\">\n",
       "      <th></th>\n",
       "      <th>game_name</th>\n",
       "      <th>pct_positive_reviews_all_time</th>\n",
       "      <th>metacritic_score</th>\n",
       "    </tr>\n",
       "    <tr>\n",
       "      <th>steam_app_id</th>\n",
       "      <th></th>\n",
       "      <th></th>\n",
       "      <th></th>\n",
       "    </tr>\n",
       "  </thead>\n",
       "  <tbody>\n",
       "    <tr>\n",
       "      <th>238870</th>\n",
       "      <td>Citadels</td>\n",
       "      <td>11.0</td>\n",
       "      <td>20.0</td>\n",
       "    </tr>\n",
       "    <tr>\n",
       "      <th>10220</th>\n",
       "      <td>Postal III</td>\n",
       "      <td>41.0</td>\n",
       "      <td>24.0</td>\n",
       "    </tr>\n",
       "    <tr>\n",
       "      <th>210500</th>\n",
       "      <td>Fray: Reloaded Edition</td>\n",
       "      <td>0.0</td>\n",
       "      <td>27.0</td>\n",
       "    </tr>\n",
       "    <tr>\n",
       "      <th>210490</th>\n",
       "      <td>Fray: Reloaded Edition</td>\n",
       "      <td>0.0</td>\n",
       "      <td>27.0</td>\n",
       "    </tr>\n",
       "    <tr>\n",
       "      <th>22310</th>\n",
       "      <td>Rogue Warrior</td>\n",
       "      <td>59.0</td>\n",
       "      <td>29.0</td>\n",
       "    </tr>\n",
       "  </tbody>\n",
       "</table>\n",
       "</div>"
      ],
      "text/plain": [
       "                           game_name  pct_positive_reviews_all_time  \\\n",
       "steam_app_id                                                          \n",
       "238870                      Citadels                           11.0   \n",
       "10220                     Postal III                           41.0   \n",
       "210500        Fray: Reloaded Edition                            0.0   \n",
       "210490        Fray: Reloaded Edition                            0.0   \n",
       "22310                  Rogue Warrior                           59.0   \n",
       "\n",
       "              metacritic_score  \n",
       "steam_app_id                    \n",
       "238870                    20.0  \n",
       "10220                     24.0  \n",
       "210500                    27.0  \n",
       "210490                    27.0  \n",
       "22310                     29.0  "
      ]
     },
     "execution_count": 26,
     "metadata": {},
     "output_type": "execute_result"
    }
   ],
   "source": [
    "find_worst_games('metacritic_score')"
   ]
  },
  {
   "cell_type": "code",
   "execution_count": 49,
   "metadata": {},
   "outputs": [],
   "source": [
    "def find_best_games(metric):\n",
    "    return (nonnull_reviews_df.sort_values(\n",
    "        metric, ascending=False\n",
    "    )[:5][['game_name', 'pct_positive_reviews_all_time', 'metacritic_score']])"
   ]
  },
  {
   "cell_type": "code",
   "execution_count": 50,
   "metadata": {},
   "outputs": [
    {
     "data": {
      "text/html": [
       "<div>\n",
       "<table border=\"1\" class=\"dataframe\">\n",
       "  <thead>\n",
       "    <tr style=\"text-align: right;\">\n",
       "      <th></th>\n",
       "      <th>game_name</th>\n",
       "      <th>pct_positive_reviews_all_time</th>\n",
       "      <th>metacritic_score</th>\n",
       "    </tr>\n",
       "    <tr>\n",
       "      <th>steam_app_id</th>\n",
       "      <th></th>\n",
       "      <th></th>\n",
       "      <th></th>\n",
       "    </tr>\n",
       "  </thead>\n",
       "  <tbody>\n",
       "    <tr>\n",
       "      <th>267980</th>\n",
       "      <td>Hostile Waters: Antaeus Rising</td>\n",
       "      <td>100.0</td>\n",
       "      <td>80.0</td>\n",
       "    </tr>\n",
       "    <tr>\n",
       "      <th>470800</th>\n",
       "      <td>She Remembered Caterpillars</td>\n",
       "      <td>100.0</td>\n",
       "      <td>83.0</td>\n",
       "    </tr>\n",
       "    <tr>\n",
       "      <th>375170</th>\n",
       "      <td>Gunpowder</td>\n",
       "      <td>100.0</td>\n",
       "      <td>76.0</td>\n",
       "    </tr>\n",
       "    <tr>\n",
       "      <th>373990</th>\n",
       "      <td>Metrico+</td>\n",
       "      <td>100.0</td>\n",
       "      <td>66.0</td>\n",
       "    </tr>\n",
       "    <tr>\n",
       "      <th>366780</th>\n",
       "      <td>Magical Eyes - Red is for Anguish</td>\n",
       "      <td>100.0</td>\n",
       "      <td>77.0</td>\n",
       "    </tr>\n",
       "  </tbody>\n",
       "</table>\n",
       "</div>"
      ],
      "text/plain": [
       "                                      game_name  \\\n",
       "steam_app_id                                      \n",
       "267980           Hostile Waters: Antaeus Rising   \n",
       "470800              She Remembered Caterpillars   \n",
       "375170                                Gunpowder   \n",
       "373990                                 Metrico+   \n",
       "366780        Magical Eyes - Red is for Anguish   \n",
       "\n",
       "              pct_positive_reviews_all_time  metacritic_score  \n",
       "steam_app_id                                                   \n",
       "267980                                100.0              80.0  \n",
       "470800                                100.0              83.0  \n",
       "375170                                100.0              76.0  \n",
       "373990                                100.0              66.0  \n",
       "366780                                100.0              77.0  "
      ]
     },
     "execution_count": 50,
     "metadata": {},
     "output_type": "execute_result"
    }
   ],
   "source": [
    "find_best_games('pct_positive_reviews_all_time')"
   ]
  },
  {
   "cell_type": "code",
   "execution_count": 51,
   "metadata": {},
   "outputs": [
    {
     "data": {
      "text/html": [
       "<div>\n",
       "<table border=\"1\" class=\"dataframe\">\n",
       "  <thead>\n",
       "    <tr style=\"text-align: right;\">\n",
       "      <th></th>\n",
       "      <th>game_name</th>\n",
       "      <th>pct_positive_reviews_all_time</th>\n",
       "      <th>metacritic_score</th>\n",
       "    </tr>\n",
       "    <tr>\n",
       "      <th>steam_app_id</th>\n",
       "      <th></th>\n",
       "      <th></th>\n",
       "      <th></th>\n",
       "    </tr>\n",
       "  </thead>\n",
       "  <tbody>\n",
       "    <tr>\n",
       "      <th>70</th>\n",
       "      <td>Half-Life</td>\n",
       "      <td>96.0</td>\n",
       "      <td>96.0</td>\n",
       "    </tr>\n",
       "    <tr>\n",
       "      <th>219</th>\n",
       "      <td>Half-Life 2</td>\n",
       "      <td>96.0</td>\n",
       "      <td>96.0</td>\n",
       "    </tr>\n",
       "    <tr>\n",
       "      <th>220</th>\n",
       "      <td>Half-Life 2</td>\n",
       "      <td>96.0</td>\n",
       "      <td>96.0</td>\n",
       "    </tr>\n",
       "    <tr>\n",
       "      <th>7710</th>\n",
       "      <td>BioShock™</td>\n",
       "      <td>94.0</td>\n",
       "      <td>96.0</td>\n",
       "    </tr>\n",
       "    <tr>\n",
       "      <th>7670</th>\n",
       "      <td>BioShock™</td>\n",
       "      <td>94.0</td>\n",
       "      <td>96.0</td>\n",
       "    </tr>\n",
       "  </tbody>\n",
       "</table>\n",
       "</div>"
      ],
      "text/plain": [
       "                game_name  pct_positive_reviews_all_time  metacritic_score\n",
       "steam_app_id                                                              \n",
       "70              Half-Life                           96.0              96.0\n",
       "219           Half-Life 2                           96.0              96.0\n",
       "220           Half-Life 2                           96.0              96.0\n",
       "7710            BioShock™                           94.0              96.0\n",
       "7670            BioShock™                           94.0              96.0"
      ]
     },
     "execution_count": 51,
     "metadata": {},
     "output_type": "execute_result"
    }
   ],
   "source": [
    "find_best_games('metacritic_score')"
   ]
  }
 ],
 "metadata": {
  "kernelspec": {
   "display_name": "Python 3",
   "language": "python",
   "name": "python3"
  },
  "language_info": {
   "codemirror_mode": {
    "name": "ipython",
    "version": 3
   },
   "file_extension": ".py",
   "mimetype": "text/x-python",
   "name": "python",
   "nbconvert_exporter": "python",
   "pygments_lexer": "ipython3",
   "version": "3.6.1"
  }
 },
 "nbformat": 4,
 "nbformat_minor": 2
}
